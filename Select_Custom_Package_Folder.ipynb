{
  "nbformat": 4,
  "nbformat_minor": 0,
  "metadata": {
    "colab": {
      "provenance": [],
      "authorship_tag": "ABX9TyNs6VpcF+lryAjpl0V5IbzK",
      "include_colab_link": true
    },
    "kernelspec": {
      "name": "python3",
      "display_name": "Python 3"
    },
    "language_info": {
      "name": "python"
    }
  },
  "cells": [
    {
      "cell_type": "markdown",
      "metadata": {
        "id": "view-in-github",
        "colab_type": "text"
      },
      "source": [
        "<a href=\"https://colab.research.google.com/github/shiful133/r-colab/blob/main/Select_Custom_Package_Folder.ipynb\" target=\"_parent\"><img src=\"https://colab.research.google.com/assets/colab-badge.svg\" alt=\"Open In Colab\"/></a>"
      ]
    },
    {
      "cell_type": "code",
      "execution_count": null,
      "metadata": {
        "id": "is2Er-8ceqFU"
      },
      "outputs": [],
      "source": [
        "!pip uninstall rpy2 -y\n",
        "!pip install rpy2==3.5.1\n",
        "%load_ext rpy2.ipython\n"
      ]
    },
    {
      "cell_type": "code",
      "source": [
        "from google.colab import drive\n",
        "drive.mount('/content/drive')"
      ],
      "metadata": {
        "id": "wFJy5ZGNdKqK",
        "colab": {
          "base_uri": "https://localhost:8080/"
        },
        "outputId": "cd987d1d-2f41-41b0-8795-9ee8cc1b0c41"
      },
      "execution_count": null,
      "outputs": [
        {
          "output_type": "stream",
          "name": "stdout",
          "text": [
            "Mounted at /content/drive\n"
          ]
        }
      ]
    },
    {
      "cell_type": "code",
      "source": [
        "%%R\n",
        "install.packages(\"RStoolbox\", lib='drive/MyDrive/R/R_Packages/')"
      ],
      "metadata": {
        "id": "XMjdK6_smdcT"
      },
      "execution_count": null,
      "outputs": []
    },
    {
      "cell_type": "code",
      "source": [
        "%%R\n",
        "#assign(\".lib.loc\", \"drive/MyDrive/R/R_Packages/\", envir = environment(.libPaths))\n",
        "assign(\".lib.loc\", c(\"drive/MyDrive/R/R_Packages/\",\"/usr/lib/R/site-library\",\"/usr/lib/R/library\"), envir = environment(.libPaths))\n",
        "#assign(\".lib.loc\", c(\"drive/MyDrive/R/R_Packages/\",\"/usr/local/lib/R/site-library\",\"/usr/lib/R/site-library\",\"/usr/lib/R/library\"), envir = environment(.libPaths))\n",
        "\n",
        ".libPaths()"
      ],
      "metadata": {
        "colab": {
          "base_uri": "https://localhost:8080/"
        },
        "id": "O_IlYJJx_Usx",
        "outputId": "a7031898-fec2-4b31-d02b-770acd729797"
      },
      "execution_count": null,
      "outputs": [
        {
          "output_type": "stream",
          "name": "stdout",
          "text": [
            "[1] \"drive/MyDrive/R/R_Packages/\"\n"
          ]
        }
      ]
    }
  ]
}